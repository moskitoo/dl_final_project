{
 "cells": [
  {
   "cell_type": "code",
   "execution_count": 1,
   "metadata": {},
   "outputs": [
    {
     "name": "stderr",
     "output_type": "stream",
     "text": [
      "\u001b[34m\u001b[1mwandb\u001b[0m: Using wandb-core as the SDK backend. Please refer to https://wandb.me/wandb-core for more information.\n",
      "\u001b[34m\u001b[1mwandb\u001b[0m: Currently logged in as: \u001b[33mhndrkjs\u001b[0m (\u001b[33mhndrkjs-danmarks-tekniske-universitet-dtu\u001b[0m). Use \u001b[1m`wandb login --relogin`\u001b[0m to force relogin\n"
     ]
    }
   ],
   "source": [
    "import torch\n",
    "import torch.nn as nn\n",
    "import torch.nn.functional as F\n",
    "from PIL import Image\n",
    "import numpy as np\n",
    "import matplotlib.pyplot as plt\n",
    "from matplotlib.colors import LogNorm\n",
    "import torchvision.transforms.v2 as v2\n",
    "from torchvision.transforms import transforms\n",
    "import os \n",
    "import sys\n",
    "import glob\n",
    "from scipy import fftpack, ndimage\n",
    "import re\n",
    "from skimage.morphology import opening, disk\n",
    "from skimage import img_as_float\n",
    "from torch.utils.data import DataLoader\n",
    "from model import BaseUnet, BaseUnet3D\n",
    "from data_processing_tools import remove_repeating_pattern\n",
    "from evaluation_metrics import dice_overlap, intersection_over_union, accuracy, sensitivity, specificity\n",
    "import timeit\n",
    "from dataset import BrightfieldMicroscopyDataset"
   ]
  },
  {
   "cell_type": "markdown",
   "metadata": {},
   "source": [
    "## Loading all the models"
   ]
  },
  {
   "cell_type": "code",
   "execution_count": 6,
   "metadata": {},
   "outputs": [
    {
     "name": "stderr",
     "output_type": "stream",
     "text": [
      "/var/folders/tw/b1bzt3x913368xjdhnk6r2b00000gn/T/ipykernel_6690/448154293.py:35: FutureWarning: You are using `torch.load` with `weights_only=False` (the current default value), which uses the default pickle module implicitly. It is possible to construct malicious pickle data which will execute arbitrary code during unpickling (See https://github.com/pytorch/pytorch/blob/main/SECURITY.md#untrusted-models for more details). In a future release, the default value for `weights_only` will be flipped to `True`. This limits the functions that could be executed during unpickling. Arbitrary objects will no longer be allowed to be loaded via this mode unless they are explicitly allowlisted by the user via `torch.serialization.add_safe_globals`. We recommend you start setting `weights_only=True` for any use case where you don't have full control of the loaded file. Please open an issue on GitHub for any issues related to this experimental feature.\n",
      "  base_unet_no_preprocessing.load_state_dict(torch.load('early_stopping_modelUnet_simple_11_nopreprocess.pth', map_location=torch.device('cpu')))\n",
      "/var/folders/tw/b1bzt3x913368xjdhnk6r2b00000gn/T/ipykernel_6690/448154293.py:38: FutureWarning: You are using `torch.load` with `weights_only=False` (the current default value), which uses the default pickle module implicitly. It is possible to construct malicious pickle data which will execute arbitrary code during unpickling (See https://github.com/pytorch/pytorch/blob/main/SECURITY.md#untrusted-models for more details). In a future release, the default value for `weights_only` will be flipped to `True`. This limits the functions that could be executed during unpickling. Arbitrary objects will no longer be allowed to be loaded via this mode unless they are explicitly allowlisted by the user via `torch.serialization.add_safe_globals`. We recommend you start setting `weights_only=True` for any use case where you don't have full control of the loaded file. Please open an issue on GitHub for any issues related to this experimental feature.\n",
      "  base_unet_no_preprocessing_3d.load_state_dict(torch.load('early_stopping_modelUnet3D_simple_11_no_preprocess.pth', map_location=torch.device('cpu')))\n",
      "/var/folders/tw/b1bzt3x913368xjdhnk6r2b00000gn/T/ipykernel_6690/448154293.py:41: FutureWarning: You are using `torch.load` with `weights_only=False` (the current default value), which uses the default pickle module implicitly. It is possible to construct malicious pickle data which will execute arbitrary code during unpickling (See https://github.com/pytorch/pytorch/blob/main/SECURITY.md#untrusted-models for more details). In a future release, the default value for `weights_only` will be flipped to `True`. This limits the functions that could be executed during unpickling. Arbitrary objects will no longer be allowed to be loaded via this mode unless they are explicitly allowlisted by the user via `torch.serialization.add_safe_globals`. We recommend you start setting `weights_only=True` for any use case where you don't have full control of the loaded file. Please open an issue on GitHub for any issues related to this experimental feature.\n",
      "  base_unet_preprocessing.load_state_dict(torch.load('early_stopping_modelUnetBase_Brightfield.pth', map_location=torch.device('cpu')))\n",
      "/var/folders/tw/b1bzt3x913368xjdhnk6r2b00000gn/T/ipykernel_6690/448154293.py:44: FutureWarning: You are using `torch.load` with `weights_only=False` (the current default value), which uses the default pickle module implicitly. It is possible to construct malicious pickle data which will execute arbitrary code during unpickling (See https://github.com/pytorch/pytorch/blob/main/SECURITY.md#untrusted-models for more details). In a future release, the default value for `weights_only` will be flipped to `True`. This limits the functions that could be executed during unpickling. Arbitrary objects will no longer be allowed to be loaded via this mode unless they are explicitly allowlisted by the user via `torch.serialization.add_safe_globals`. We recommend you start setting `weights_only=True` for any use case where you don't have full control of the loaded file. Please open an issue on GitHub for any issues related to this experimental feature.\n",
      "  base_unet_preprocessing_3d.load_state_dict(torch.load('early_stopping_modelUnet3D_simple_11_preprocess.pth', map_location=torch.device('cpu')))\n"
     ]
    },
    {
     "data": {
      "text/plain": [
       "BaseUnet3D(\n",
       "  (enc_conv0): Conv3d(11, 16, kernel_size=(3, 3, 3), stride=(1, 1, 1), padding=(1, 1, 1))\n",
       "  (downconv0): Conv3d(16, 16, kernel_size=(3, 3, 3), stride=(2, 2, 2), padding=(1, 1, 1))\n",
       "  (batchnorm0): BatchNorm3d(16, eps=1e-05, momentum=0.1, affine=True, track_running_stats=True)\n",
       "  (enc_conv1): Conv3d(16, 32, kernel_size=(3, 3, 3), stride=(1, 1, 1), padding=(1, 1, 1))\n",
       "  (downconv1): Conv3d(32, 32, kernel_size=(3, 3, 3), stride=(2, 2, 2), padding=(1, 1, 1))\n",
       "  (batchnorm1): BatchNorm3d(32, eps=1e-05, momentum=0.1, affine=True, track_running_stats=True)\n",
       "  (enc_conv2): Conv3d(32, 32, kernel_size=(3, 3, 3), stride=(1, 1, 1), padding=(1, 1, 1))\n",
       "  (downconv2): Conv3d(32, 32, kernel_size=(3, 3, 3), stride=(2, 2, 2), padding=(1, 1, 1))\n",
       "  (batchnorm2): BatchNorm3d(32, eps=1e-05, momentum=0.1, affine=True, track_running_stats=True)\n",
       "  (enc_conv3): Conv3d(32, 64, kernel_size=(3, 3, 3), stride=(1, 1, 1), padding=(1, 1, 1))\n",
       "  (downconv3): Conv3d(64, 64, kernel_size=(3, 3, 3), stride=(2, 2, 2), padding=(1, 1, 1))\n",
       "  (batchnorm3): BatchNorm3d(64, eps=1e-05, momentum=0.1, affine=True, track_running_stats=True)\n",
       "  (bottleneck_conv): Conv3d(64, 64, kernel_size=(3, 3, 3), stride=(1, 1, 1), padding=(1, 1, 1))\n",
       "  (upconv0): ConvTranspose3d(64, 64, kernel_size=(3, 2, 2), stride=(2, 2, 2), padding=(1, 0, 0))\n",
       "  (dec_conv0): Conv3d(128, 32, kernel_size=(3, 3, 3), stride=(1, 1, 1), padding=(1, 1, 1))\n",
       "  (batchnorm4): BatchNorm3d(32, eps=1e-05, momentum=0.1, affine=True, track_running_stats=True)\n",
       "  (upconv1): ConvTranspose3d(32, 32, kernel_size=(3, 2, 2), stride=(2, 2, 2), padding=(1, 0, 0))\n",
       "  (dec_conv1): Conv3d(64, 32, kernel_size=(3, 3, 3), stride=(1, 1, 1), padding=(1, 1, 1))\n",
       "  (batchnorm5): BatchNorm3d(32, eps=1e-05, momentum=0.1, affine=True, track_running_stats=True)\n",
       "  (upconv2): ConvTranspose3d(32, 32, kernel_size=(3, 2, 2), stride=(2, 2, 2), padding=(1, 0, 0))\n",
       "  (dec_conv2): Conv3d(64, 16, kernel_size=(3, 3, 3), stride=(1, 1, 1), padding=(1, 1, 1))\n",
       "  (batchnorm6): BatchNorm3d(16, eps=1e-05, momentum=0.1, affine=True, track_running_stats=True)\n",
       "  (upconv3): ConvTranspose3d(16, 16, kernel_size=(3, 2, 2), stride=(2, 2, 2), padding=(1, 0, 0))\n",
       "  (dec_conv3): Conv3d(32, 1, kernel_size=(3, 3, 3), stride=(1, 1, 1), padding=(1, 1, 1))\n",
       ")"
      ]
     },
     "execution_count": 6,
     "metadata": {},
     "output_type": "execute_result"
    }
   ],
   "source": [
    "one_channel_unet = BaseUnet(num_inputs=1)\n",
    "one_channel_unet.load_state_dict(torch.load('early_stopping_modelablation_channel_base_unet_1.pth', map_location=torch.device('cpu')))\n",
    "\n",
    "two_channel_unet = BaseUnet(num_inputs=2)\n",
    "two_channel_unet.load_state_dict(torch.load('early_stopping_modelablation_channel_base_unet_2.pth', map_location=torch.device('cpu')))\n",
    "\n",
    "three_channel_unet = BaseUnet(num_inputs=3)\n",
    "three_channel_unet.load_state_dict(torch.load('early_stopping_modelablation_channel_base_unet_3.pth', map_location=torch.device('cpu')))\n",
    "\n",
    "four_channel_unet = BaseUnet(num_inputs=4)\n",
    "four_channel_unet.load_state_dict(torch.load('early_stopping_modelablation_channel_base_unet_4.pth', map_location=torch.device('cpu')))\n",
    "\n",
    "five_channel_unet = BaseUnet(num_inputs=5)\n",
    "five_channel_unet.load_state_dict(torch.load('early_stopping_modelablation_channel_base_unet_5.pth', map_location=torch.device('cpu')))\n",
    "\n",
    "six_channel_unet = BaseUnet(num_inputs=6)\n",
    "six_channel_unet.load_state_dict(torch.load('early_stopping_modelablation_channel_base_unet_6.pth', map_location=torch.device('cpu')))\n",
    "\n",
    "seven_channel_unet = BaseUnet(num_inputs=7)\n",
    "seven_channel_unet.load_state_dict(torch.load('early_stopping_modelablation_channel_base_unet_7.pth', map_location=torch.device('cpu')))\n",
    "\n",
    "eight_channel_unet = BaseUnet(num_inputs=8)\n",
    "eight_channel_unet.load_state_dict(torch.load('early_stopping_modelablation_channel_base_unet_8.pth', map_location=torch.device('cpu')))\n",
    "\n",
    "nine_channel_unet = BaseUnet(num_inputs=9)\n",
    "nine_channel_unet.load_state_dict(torch.load('early_stopping_modelablation_channel_base_unet_9.pth', map_location=torch.device('cpu')))\n",
    "\n",
    "ten_channel_unet = BaseUnet(num_inputs=10)\n",
    "ten_channel_unet.load_state_dict(torch.load('early_stopping_modelablation_channel_base_unet_10.pth', map_location=torch.device('cpu')))\n",
    "\n",
    "eleven_channel_unet = BaseUnet(num_inputs=11)\n",
    "eleven_channel_unet.load_state_dict(torch.load('early_stopping_modelablation_channel_base_unet_11.pth', map_location=torch.device('cpu')))\n",
    "\n",
    "base_unet_no_preprocessing = BaseUnet()\n",
    "base_unet_no_preprocessing.load_state_dict(torch.load('early_stopping_modelUnet_simple_11_nopreprocess.pth', map_location=torch.device('cpu')))\n",
    "\n",
    "base_unet_no_preprocessing_3d = BaseUnet3D()\n",
    "base_unet_no_preprocessing_3d.load_state_dict(torch.load('early_stopping_modelUnet3D_simple_11_no_preprocess.pth', map_location=torch.device('cpu')))\n",
    "\n",
    "base_unet_preprocessing = BaseUnet()\n",
    "base_unet_preprocessing.load_state_dict(torch.load('early_stopping_modelUnetBase_Brightfield.pth', map_location=torch.device('cpu')))\n",
    "\n",
    "base_unet_preprocessing_3d = BaseUnet3D()\n",
    "base_unet_preprocessing_3d.load_state_dict(torch.load('early_stopping_modelUnet3D_simple_11_preprocess.pth', map_location=torch.device('cpu')))\n",
    "\n",
    "# one_channel_unet.eval()\n",
    "# two_channel_unet.eval()\n",
    "# three_channel_unet.eval()\n",
    "# four_channel_unet.eval()\n",
    "# five_channel_unet.eval()\n",
    "# six_channel_unet.eval()\n",
    "# seven_channel_unet.eval()\n",
    "# eight_channel_unet.eval()\n",
    "# nine_channel_unet.eval()\n",
    "# ten_channel_unet.eval()\n",
    "# eleven_channel_unet.eval()\n",
    "base_unet_no_preprocessing.eval()\n",
    "base_unet_no_preprocessing_3d.eval()\n",
    "base_unet_preprocessing.eval()\n",
    "base_unet_preprocessing_3d.eval()"
   ]
  },
  {
   "cell_type": "markdown",
   "metadata": {},
   "source": [
    "## Dataloader and Testing function"
   ]
  },
  {
   "cell_type": "code",
   "execution_count": 3,
   "metadata": {},
   "outputs": [],
   "source": [
    "def get_dataloader_test(sample_size=512, batch_size=1, channels=[0, 1, 2, 3, 4, 5, 6, 7, 8, 9, 10]):\n",
    "\n",
    "    # image_root = '/zhome/70/5/14854/nobackup/deeplearningf24/forcebiology/data/brightfield'\n",
    "    # mask_root = '/zhome/70/5/14854/nobackup/deeplearningf24/forcebiology/data/masks'\n",
    "    image_root = 'data/brightfield'\n",
    "    mask_root = 'data/masks'\n",
    "\n",
    "    transform_test = v2.Compose([\n",
    "        v2.Resize((sample_size, sample_size)),\n",
    "        v2.ToDtype(torch.float32, scale=True),\n",
    "        v2.ToTensor(),\n",
    "    ])\n",
    "\n",
    "    brightfield_test_datatset = BrightfieldMicroscopyDataset(root_dir_images=image_root, root_dir_labels=mask_root, train=False, validation=False, transform=transform_test, channels_to_use=channels)\n",
    "\n",
    "    brightfield_loader_test = DataLoader(brightfield_test_datatset,  batch_size=batch_size, shuffle=False)\n",
    "\n",
    "    return brightfield_loader_test"
   ]
  },
  {
   "cell_type": "code",
   "execution_count": 4,
   "metadata": {},
   "outputs": [],
   "source": [
    "def test_model(model, test_loader, criterion, device, preprocessing=False, test_3d=False):\n",
    "    test_loss = []\n",
    "    dice = []\n",
    "    iou = []\n",
    "    acc = []\n",
    "    sens = []\n",
    "    spec = []\n",
    "\n",
    "    with torch.no_grad():\n",
    "        for data in test_loader:\n",
    "            images, labels = data\n",
    "            # remove repeating pattern\n",
    "            if preprocessing:\n",
    "                for i in range(images.shape[0]):\n",
    "                    images[i] = torch.tensor(remove_repeating_pattern(images[i].numpy()))\n",
    "\n",
    "            images, labels = images.to(device), labels.to(device)\n",
    "\n",
    "            if test_3d:\n",
    "                images = images.unsqueeze(2)\n",
    "                labels = labels.unsqueeze(1)\n",
    "\n",
    "            outputs = model(images)\n",
    "            loss = criterion(outputs, labels.float())\n",
    "            test_loss.append(loss.item())\n",
    "\n",
    "            Y_pred = (outputs > 0.45).float()\n",
    "            \n",
    "            dice.append(dice_overlap(Y_pred, labels))\n",
    "            iou.append(intersection_over_union(Y_pred, labels))\n",
    "            acc.append(accuracy(Y_pred, labels))\n",
    "            sens.append(sensitivity(Y_pred, labels))\n",
    "            spec.append(specificity(Y_pred, labels))\n",
    "\n",
    "    return test_loss, dice, iou, acc, sens, spec\n",
    "        "
   ]
  },
  {
   "cell_type": "markdown",
   "metadata": {},
   "source": [
    "## Testing the 2D and 3D Unets with and without preprocessing"
   ]
  },
  {
   "cell_type": "code",
   "execution_count": 7,
   "metadata": {},
   "outputs": [
    {
     "name": "stdout",
     "output_type": "stream",
     "text": [
      "3D no preprocess\n",
      "Test loss:  0.32766258848064084\n",
      "Dice:  0.66471165\n",
      "IoU:  0.5213731\n",
      "Accuracy:  0.9010626\n",
      "Sensitivity:  0.5811094\n",
      "Specificity:  0.9794943\n",
      "3D preprocess\n",
      "Test loss:  0.303239405885631\n",
      "Dice:  0.7123706\n",
      "IoU:  0.5669817\n",
      "Accuracy:  0.9005842\n",
      "Sensitivity:  0.68898076\n",
      "Specificity:  0.9514856\n",
      "2D no preprocess\n",
      "Test loss:  0.2897508324069135\n",
      "Dice:  0.6941363\n",
      "IoU:  0.56036824\n",
      "Accuracy:  0.9063084\n",
      "Sensitivity:  0.64471835\n",
      "Specificity:  0.9740524\n",
      "2D preprocess\n",
      "Test loss:  1.7176370281799167\n",
      "Dice:  0.12770145\n",
      "IoU:  0.07044108\n",
      "Accuracy:  0.8165396\n",
      "Sensitivity:  0.082212515\n",
      "Specificity:  0.97815675\n"
     ]
    }
   ],
   "source": [
    "test_loss_3d_no_preprocess, dice_3d_no_preprocess, iou_3d_no_preprocess, acc_3d_no_preprocess, sens_3d_no_preprocess, spec_3d_no_preprocess = test_model(base_unet_no_preprocessing_3d, get_dataloader_test(channels=[0, 1, 2, 3, 4, 5, 6, 7, 8, 9, 10]), nn.BCEWithLogitsLoss(), torch.device('cpu'), preprocessing=False, test_3d=True)\n",
    "\n",
    "test_loss_3d_preprocess, dice_3d_preprocess, iou_3d_preprocess, acc_3d_preprocess, sens_3d_preprocess, spec_3d_preprocess = test_model(base_unet_preprocessing_3d, get_dataloader_test(channels=[0, 1, 2, 3, 4, 5, 6, 7, 8, 9, 10]), nn.BCEWithLogitsLoss(), torch.device('cpu'), preprocessing=True, test_3d=True)\n",
    "\n",
    "tess_loss_2d_no_preprocess, dice_2d_no_preprocess, iou_2d_no_preprocess, acc_2d_no_preprocess, sens_2d_no_preprocess, spec_2d_no_preprocess = test_model(base_unet_no_preprocessing, get_dataloader_test(channels=[0, 1, 2, 3, 4, 5, 6, 7, 8, 9, 10]), nn.BCEWithLogitsLoss(), torch.device('cpu'), preprocessing=False, test_3d=False)\n",
    "\n",
    "test_loss_2d_preprocess, dice_2d_preprocess, iou_2d_preprocess, acc_2d_preprocess, sens_2d_preprocess, spec_2d_preprocess = test_model(base_unet_preprocessing, get_dataloader_test(channels=[0, 1, 2, 3, 4, 5, 6, 7, 8, 9, 10]), nn.BCEWithLogitsLoss(), torch.device('cpu'), preprocessing=True, test_3d=False)\n",
    "\n",
    "print('3D no preprocess')\n",
    "print('Test loss: ', np.mean(test_loss_3d_no_preprocess))\n",
    "print('Dice: ', np.mean(dice_3d_no_preprocess))\n",
    "print('IoU: ', np.mean(iou_3d_no_preprocess))\n",
    "print('Accuracy: ', np.mean(acc_3d_no_preprocess))\n",
    "print('Sensitivity: ', np.mean(sens_3d_no_preprocess))\n",
    "print('Specificity: ', np.mean(spec_3d_no_preprocess))\n",
    "\n",
    "print('3D preprocess')\n",
    "print('Test loss: ', np.mean(test_loss_3d_preprocess))\n",
    "print('Dice: ', np.mean(dice_3d_preprocess))\n",
    "print('IoU: ', np.mean(iou_3d_preprocess))\n",
    "print('Accuracy: ', np.mean(acc_3d_preprocess))\n",
    "print('Sensitivity: ', np.mean(sens_3d_preprocess))\n",
    "print('Specificity: ', np.mean(spec_3d_preprocess))\n",
    "\n",
    "print('2D no preprocess')\n",
    "print('Test loss: ', np.mean(tess_loss_2d_no_preprocess))\n",
    "print('Dice: ', np.mean(dice_2d_no_preprocess))\n",
    "print('IoU: ', np.mean(iou_2d_no_preprocess))\n",
    "print('Accuracy: ', np.mean(acc_2d_no_preprocess))\n",
    "print('Sensitivity: ', np.mean(sens_2d_no_preprocess))\n",
    "print('Specificity: ', np.mean(spec_2d_no_preprocess))\n",
    "\n",
    "print('2D preprocess')\n",
    "print('Test loss: ', np.mean(test_loss_2d_preprocess))\n",
    "print('Dice: ', np.mean(dice_2d_preprocess))\n",
    "print('IoU: ', np.mean(iou_2d_preprocess))\n",
    "print('Accuracy: ', np.mean(acc_2d_preprocess))\n",
    "print('Sensitivity: ', np.mean(sens_2d_preprocess))\n",
    "print('Specificity: ', np.mean(spec_2d_preprocess))"
   ]
  },
  {
   "cell_type": "markdown",
   "metadata": {},
   "source": [
    "## Testing whether results are statisitcally significant"
   ]
  },
  {
   "cell_type": "markdown",
   "metadata": {},
   "source": [
    "### 2D Unet vs 3D Unet"
   ]
  },
  {
   "cell_type": "code",
   "execution_count": 11,
   "metadata": {},
   "outputs": [
    {
     "name": "stdout",
     "output_type": "stream",
     "text": [
      "Wilcoxon signed-rank test results for dice:\n",
      "Statistic: 290.0000, p-value: 0.0005\n",
      "Wilcoxon signed-rank test results for iou:\n",
      "Statistic: 268.0000, p-value: 0.0002\n"
     ]
    }
   ],
   "source": [
    "import numpy as np\n",
    "from scipy.stats import wilcoxon\n",
    "from scipy.stats import ttest_rel\n",
    "\n",
    "\n",
    "modelA_scores_dice = np.array(dice_3d_no_preprocess)\n",
    "modelB_scores_dice = np.array(dice_2d_no_preprocess)\n",
    "\n",
    "modelA_scores_iou = np.array(iou_3d_no_preprocess)\n",
    "modelB_scores_iou = np.array(iou_2d_no_preprocess)\n",
    "\n",
    "\n",
    "# Perform a Wilcoxon signed-rank test (non-parametric)\n",
    "stat_dice, p_value_dice = wilcoxon(modelA_scores_dice, modelB_scores_dice)\n",
    "stat_iou, p_value_iou = wilcoxon(modelA_scores_iou, modelB_scores_iou)\n",
    "\n",
    "print(\"Wilcoxon signed-rank test results for dice:\")\n",
    "print(f\"Statistic: {stat_dice:.4f}, p-value: {p_value_dice:.4f}\")\n",
    "\n",
    "print(\"Wilcoxon signed-rank test results for iou:\")\n",
    "print(f\"Statistic: {stat_iou:.4f}, p-value: {p_value_iou:.4f}\")\n"
   ]
  },
  {
   "cell_type": "markdown",
   "metadata": {},
   "source": [
    "### 3D Unet perprocessing vs preprocessing"
   ]
  },
  {
   "cell_type": "code",
   "execution_count": 12,
   "metadata": {},
   "outputs": [
    {
     "name": "stdout",
     "output_type": "stream",
     "text": [
      "Wilcoxon signed-rank test results for dice:\n",
      "Statistic: 270.0000, p-value: 0.0002\n",
      "Wilcoxon signed-rank test results for iou:\n",
      "Statistic: 276.0000, p-value: 0.0003\n"
     ]
    }
   ],
   "source": [
    "modelA_scores_dice = np.array(dice_3d_no_preprocess)\n",
    "modelB_scores_dice = np.array(dice_3d_preprocess)\n",
    "\n",
    "modelA_scores_iou = np.array(iou_3d_no_preprocess)\n",
    "modelB_scores_iou = np.array(iou_3d_preprocess)\n",
    "\n",
    "\n",
    "# Perform a Wilcoxon signed-rank test (non-parametric)\n",
    "stat_dice, p_value_dice = wilcoxon(modelA_scores_dice, modelB_scores_dice)\n",
    "stat_iou, p_value_iou = wilcoxon(modelA_scores_iou, modelB_scores_iou)\n",
    "\n",
    "print(\"Wilcoxon signed-rank test results for dice:\")\n",
    "print(f\"Statistic: {stat_dice:.4f}, p-value: {p_value_dice:.4f}\")\n",
    "\n",
    "print(\"Wilcoxon signed-rank test results for iou:\")\n",
    "print(f\"Statistic: {stat_iou:.4f}, p-value: {p_value_iou:.4f}\")"
   ]
  },
  {
   "cell_type": "markdown",
   "metadata": {},
   "source": [
    "### 2D Unet preprocessing vs no preprocessing"
   ]
  },
  {
   "cell_type": "code",
   "execution_count": 13,
   "metadata": {},
   "outputs": [
    {
     "name": "stdout",
     "output_type": "stream",
     "text": [
      "Wilcoxon signed-rank test results for dice:\n",
      "Statistic: 422.0000, p-value: 0.0239\n",
      "Wilcoxon signed-rank test results for iou:\n",
      "Statistic: 362.0000, p-value: 0.0048\n"
     ]
    }
   ],
   "source": [
    "modelA_scores_dice = np.array(dice_2d_no_preprocess)\n",
    "modelB_scores_dice = np.array(dice_2d_preprocess)\n",
    "\n",
    "modelA_scores_iou = np.array(iou_2d_no_preprocess)\n",
    "modelB_scores_iou = np.array(iou_2d_preprocess)\n",
    "\n",
    "\n",
    "# Perform a Wilcoxon signed-rank test (non-parametric)\n",
    "stat_dice, p_value_dice = wilcoxon(modelA_scores_dice, modelB_scores_dice)\n",
    "stat_iou, p_value_iou = wilcoxon(modelA_scores_iou, modelB_scores_iou)\n",
    "\n",
    "print(\"Wilcoxon signed-rank test results for dice:\")\n",
    "print(f\"Statistic: {stat_dice:.4f}, p-value: {p_value_dice:.4f}\")\n",
    "\n",
    "print(\"Wilcoxon signed-rank test results for iou:\")\n",
    "print(f\"Statistic: {stat_iou:.4f}, p-value: {p_value_iou:.4f}\")"
   ]
  },
  {
   "cell_type": "markdown",
   "metadata": {},
   "source": [
    "### 2D vs 3D preprocess"
   ]
  },
  {
   "cell_type": "code",
   "execution_count": 16,
   "metadata": {},
   "outputs": [
    {
     "name": "stdout",
     "output_type": "stream",
     "text": [
      "Wilcoxon signed-rank test results for dice:\n",
      "Statistic: 83.0000, p-value: 0.0000000543\n",
      "Wilcoxon signed-rank test results for iou:\n",
      "Statistic: 75.0000, p-value: 0.0000000356\n"
     ]
    }
   ],
   "source": [
    "modelA_scores_dice = np.array(dice_3d_preprocess)\n",
    "modelB_scores_dice = np.array(dice_2d_preprocess)\n",
    "\n",
    "modelA_scores_iou = np.array(iou_3d_preprocess)\n",
    "modelB_scores_iou = np.array(iou_2d_preprocess)\n",
    "\n",
    "\n",
    "# Perform a Wilcoxon signed-rank test (non-parametric)\n",
    "stat_dice, p_value_dice = wilcoxon(modelA_scores_dice, modelB_scores_dice)\n",
    "stat_iou, p_value_iou = wilcoxon(modelA_scores_iou, modelB_scores_iou)\n",
    "\n",
    "print(\"Wilcoxon signed-rank test results for dice:\")\n",
    "print(f\"Statistic: {stat_dice:.4f}, p-value: {p_value_dice:.10f}\")\n",
    "\n",
    "print(\"Wilcoxon signed-rank test results for iou:\")\n",
    "print(f\"Statistic: {stat_iou:.4f}, p-value: {p_value_iou:.10f}\")"
   ]
  }
 ],
 "metadata": {
  "kernelspec": {
   "display_name": "base",
   "language": "python",
   "name": "python3"
  },
  "language_info": {
   "codemirror_mode": {
    "name": "ipython",
    "version": 3
   },
   "file_extension": ".py",
   "mimetype": "text/x-python",
   "name": "python",
   "nbconvert_exporter": "python",
   "pygments_lexer": "ipython3",
   "version": "3.11.5"
  }
 },
 "nbformat": 4,
 "nbformat_minor": 2
}
