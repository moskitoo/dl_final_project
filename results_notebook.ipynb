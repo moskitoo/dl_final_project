{
 "cells": [
  {
   "cell_type": "code",
   "execution_count": 10,
   "metadata": {},
   "outputs": [],
   "source": [
    "import torch\n",
    "import torch.nn as nn\n",
    "import torch.nn.functional as F\n",
    "from PIL import Image\n",
    "import numpy as np\n",
    "import matplotlib.pyplot as plt\n",
    "from matplotlib.colors import LogNorm\n",
    "import torchvision.transforms.v2 as v2\n",
    "from torchvision.transforms import transforms\n",
    "import os \n",
    "import sys\n",
    "import glob\n",
    "from scipy import fftpack, ndimage\n",
    "import re\n",
    "from skimage.morphology import opening, disk\n",
    "from skimage import img_as_float\n",
    "from torch.utils.data import DataLoader\n",
    "from model import BaseUnet, BaseUnet3D\n",
    "from data_processing_tools import remove_repeating_pattern\n",
    "from evaluation_metrics import dice_overlap, intersection_over_union, accuracy, sensitivity, specificity\n",
    "import timeit\n",
    "from dataset import BrightfieldMicroscopyDataset"
   ]
  },
  {
   "cell_type": "markdown",
   "metadata": {},
   "source": [
    "## Loading all the models"
   ]
  },
  {
   "cell_type": "code",
   "execution_count": 14,
   "metadata": {},
   "outputs": [
    {
     "name": "stderr",
     "output_type": "stream",
     "text": [
      "/var/folders/tw/b1bzt3x913368xjdhnk6r2b00000gn/T/ipykernel_6690/782510592.py:2: FutureWarning: You are using `torch.load` with `weights_only=False` (the current default value), which uses the default pickle module implicitly. It is possible to construct malicious pickle data which will execute arbitrary code during unpickling (See https://github.com/pytorch/pytorch/blob/main/SECURITY.md#untrusted-models for more details). In a future release, the default value for `weights_only` will be flipped to `True`. This limits the functions that could be executed during unpickling. Arbitrary objects will no longer be allowed to be loaded via this mode unless they are explicitly allowlisted by the user via `torch.serialization.add_safe_globals`. We recommend you start setting `weights_only=True` for any use case where you don't have full control of the loaded file. Please open an issue on GitHub for any issues related to this experimental feature.\n",
      "  one_channel_unet.load_state_dict(torch.load('early_stopping_modelablation_channel_base_unet_1.pth', map_location=torch.device('cpu')))\n",
      "/var/folders/tw/b1bzt3x913368xjdhnk6r2b00000gn/T/ipykernel_6690/782510592.py:5: FutureWarning: You are using `torch.load` with `weights_only=False` (the current default value), which uses the default pickle module implicitly. It is possible to construct malicious pickle data which will execute arbitrary code during unpickling (See https://github.com/pytorch/pytorch/blob/main/SECURITY.md#untrusted-models for more details). In a future release, the default value for `weights_only` will be flipped to `True`. This limits the functions that could be executed during unpickling. Arbitrary objects will no longer be allowed to be loaded via this mode unless they are explicitly allowlisted by the user via `torch.serialization.add_safe_globals`. We recommend you start setting `weights_only=True` for any use case where you don't have full control of the loaded file. Please open an issue on GitHub for any issues related to this experimental feature.\n",
      "  two_channel_unet.load_state_dict(torch.load('early_stopping_modelablation_channel_base_unet_2.pth', map_location=torch.device('cpu')))\n",
      "/var/folders/tw/b1bzt3x913368xjdhnk6r2b00000gn/T/ipykernel_6690/782510592.py:8: FutureWarning: You are using `torch.load` with `weights_only=False` (the current default value), which uses the default pickle module implicitly. It is possible to construct malicious pickle data which will execute arbitrary code during unpickling (See https://github.com/pytorch/pytorch/blob/main/SECURITY.md#untrusted-models for more details). In a future release, the default value for `weights_only` will be flipped to `True`. This limits the functions that could be executed during unpickling. Arbitrary objects will no longer be allowed to be loaded via this mode unless they are explicitly allowlisted by the user via `torch.serialization.add_safe_globals`. We recommend you start setting `weights_only=True` for any use case where you don't have full control of the loaded file. Please open an issue on GitHub for any issues related to this experimental feature.\n",
      "  three_channel_unet.load_state_dict(torch.load('early_stopping_modelablation_channel_base_unet_3.pth', map_location=torch.device('cpu')))\n",
      "/var/folders/tw/b1bzt3x913368xjdhnk6r2b00000gn/T/ipykernel_6690/782510592.py:11: FutureWarning: You are using `torch.load` with `weights_only=False` (the current default value), which uses the default pickle module implicitly. It is possible to construct malicious pickle data which will execute arbitrary code during unpickling (See https://github.com/pytorch/pytorch/blob/main/SECURITY.md#untrusted-models for more details). In a future release, the default value for `weights_only` will be flipped to `True`. This limits the functions that could be executed during unpickling. Arbitrary objects will no longer be allowed to be loaded via this mode unless they are explicitly allowlisted by the user via `torch.serialization.add_safe_globals`. We recommend you start setting `weights_only=True` for any use case where you don't have full control of the loaded file. Please open an issue on GitHub for any issues related to this experimental feature.\n",
      "  four_channel_unet.load_state_dict(torch.load('early_stopping_modelablation_channel_base_unet_4.pth', map_location=torch.device('cpu')))\n",
      "/var/folders/tw/b1bzt3x913368xjdhnk6r2b00000gn/T/ipykernel_6690/782510592.py:14: FutureWarning: You are using `torch.load` with `weights_only=False` (the current default value), which uses the default pickle module implicitly. It is possible to construct malicious pickle data which will execute arbitrary code during unpickling (See https://github.com/pytorch/pytorch/blob/main/SECURITY.md#untrusted-models for more details). In a future release, the default value for `weights_only` will be flipped to `True`. This limits the functions that could be executed during unpickling. Arbitrary objects will no longer be allowed to be loaded via this mode unless they are explicitly allowlisted by the user via `torch.serialization.add_safe_globals`. We recommend you start setting `weights_only=True` for any use case where you don't have full control of the loaded file. Please open an issue on GitHub for any issues related to this experimental feature.\n",
      "  five_channel_unet.load_state_dict(torch.load('early_stopping_modelablation_channel_base_unet_5.pth', map_location=torch.device('cpu')))\n",
      "/var/folders/tw/b1bzt3x913368xjdhnk6r2b00000gn/T/ipykernel_6690/782510592.py:17: FutureWarning: You are using `torch.load` with `weights_only=False` (the current default value), which uses the default pickle module implicitly. It is possible to construct malicious pickle data which will execute arbitrary code during unpickling (See https://github.com/pytorch/pytorch/blob/main/SECURITY.md#untrusted-models for more details). In a future release, the default value for `weights_only` will be flipped to `True`. This limits the functions that could be executed during unpickling. Arbitrary objects will no longer be allowed to be loaded via this mode unless they are explicitly allowlisted by the user via `torch.serialization.add_safe_globals`. We recommend you start setting `weights_only=True` for any use case where you don't have full control of the loaded file. Please open an issue on GitHub for any issues related to this experimental feature.\n",
      "  six_channel_unet.load_state_dict(torch.load('early_stopping_modelablation_channel_base_unet_6.pth', map_location=torch.device('cpu')))\n",
      "/var/folders/tw/b1bzt3x913368xjdhnk6r2b00000gn/T/ipykernel_6690/782510592.py:20: FutureWarning: You are using `torch.load` with `weights_only=False` (the current default value), which uses the default pickle module implicitly. It is possible to construct malicious pickle data which will execute arbitrary code during unpickling (See https://github.com/pytorch/pytorch/blob/main/SECURITY.md#untrusted-models for more details). In a future release, the default value for `weights_only` will be flipped to `True`. This limits the functions that could be executed during unpickling. Arbitrary objects will no longer be allowed to be loaded via this mode unless they are explicitly allowlisted by the user via `torch.serialization.add_safe_globals`. We recommend you start setting `weights_only=True` for any use case where you don't have full control of the loaded file. Please open an issue on GitHub for any issues related to this experimental feature.\n",
      "  seven_channel_unet.load_state_dict(torch.load('early_stopping_modelablation_channel_base_unet_7.pth', map_location=torch.device('cpu')))\n",
      "/var/folders/tw/b1bzt3x913368xjdhnk6r2b00000gn/T/ipykernel_6690/782510592.py:23: FutureWarning: You are using `torch.load` with `weights_only=False` (the current default value), which uses the default pickle module implicitly. It is possible to construct malicious pickle data which will execute arbitrary code during unpickling (See https://github.com/pytorch/pytorch/blob/main/SECURITY.md#untrusted-models for more details). In a future release, the default value for `weights_only` will be flipped to `True`. This limits the functions that could be executed during unpickling. Arbitrary objects will no longer be allowed to be loaded via this mode unless they are explicitly allowlisted by the user via `torch.serialization.add_safe_globals`. We recommend you start setting `weights_only=True` for any use case where you don't have full control of the loaded file. Please open an issue on GitHub for any issues related to this experimental feature.\n",
      "  eight_channel_unet.load_state_dict(torch.load('early_stopping_modelablation_channel_base_unet_8.pth', map_location=torch.device('cpu')))\n",
      "/var/folders/tw/b1bzt3x913368xjdhnk6r2b00000gn/T/ipykernel_6690/782510592.py:26: FutureWarning: You are using `torch.load` with `weights_only=False` (the current default value), which uses the default pickle module implicitly. It is possible to construct malicious pickle data which will execute arbitrary code during unpickling (See https://github.com/pytorch/pytorch/blob/main/SECURITY.md#untrusted-models for more details). In a future release, the default value for `weights_only` will be flipped to `True`. This limits the functions that could be executed during unpickling. Arbitrary objects will no longer be allowed to be loaded via this mode unless they are explicitly allowlisted by the user via `torch.serialization.add_safe_globals`. We recommend you start setting `weights_only=True` for any use case where you don't have full control of the loaded file. Please open an issue on GitHub for any issues related to this experimental feature.\n",
      "  nine_channel_unet.load_state_dict(torch.load('early_stopping_modelablation_channel_base_unet_9.pth', map_location=torch.device('cpu')))\n",
      "/var/folders/tw/b1bzt3x913368xjdhnk6r2b00000gn/T/ipykernel_6690/782510592.py:29: FutureWarning: You are using `torch.load` with `weights_only=False` (the current default value), which uses the default pickle module implicitly. It is possible to construct malicious pickle data which will execute arbitrary code during unpickling (See https://github.com/pytorch/pytorch/blob/main/SECURITY.md#untrusted-models for more details). In a future release, the default value for `weights_only` will be flipped to `True`. This limits the functions that could be executed during unpickling. Arbitrary objects will no longer be allowed to be loaded via this mode unless they are explicitly allowlisted by the user via `torch.serialization.add_safe_globals`. We recommend you start setting `weights_only=True` for any use case where you don't have full control of the loaded file. Please open an issue on GitHub for any issues related to this experimental feature.\n",
      "  ten_channel_unet.load_state_dict(torch.load('early_stopping_modelablation_channel_base_unet_10.pth', map_location=torch.device('cpu')))\n",
      "/var/folders/tw/b1bzt3x913368xjdhnk6r2b00000gn/T/ipykernel_6690/782510592.py:32: FutureWarning: You are using `torch.load` with `weights_only=False` (the current default value), which uses the default pickle module implicitly. It is possible to construct malicious pickle data which will execute arbitrary code during unpickling (See https://github.com/pytorch/pytorch/blob/main/SECURITY.md#untrusted-models for more details). In a future release, the default value for `weights_only` will be flipped to `True`. This limits the functions that could be executed during unpickling. Arbitrary objects will no longer be allowed to be loaded via this mode unless they are explicitly allowlisted by the user via `torch.serialization.add_safe_globals`. We recommend you start setting `weights_only=True` for any use case where you don't have full control of the loaded file. Please open an issue on GitHub for any issues related to this experimental feature.\n",
      "  eleven_channel_unet.load_state_dict(torch.load('early_stopping_modelablation_channel_base_unet_11.pth', map_location=torch.device('cpu')))\n",
      "/var/folders/tw/b1bzt3x913368xjdhnk6r2b00000gn/T/ipykernel_6690/782510592.py:35: FutureWarning: You are using `torch.load` with `weights_only=False` (the current default value), which uses the default pickle module implicitly. It is possible to construct malicious pickle data which will execute arbitrary code during unpickling (See https://github.com/pytorch/pytorch/blob/main/SECURITY.md#untrusted-models for more details). In a future release, the default value for `weights_only` will be flipped to `True`. This limits the functions that could be executed during unpickling. Arbitrary objects will no longer be allowed to be loaded via this mode unless they are explicitly allowlisted by the user via `torch.serialization.add_safe_globals`. We recommend you start setting `weights_only=True` for any use case where you don't have full control of the loaded file. Please open an issue on GitHub for any issues related to this experimental feature.\n",
      "  base_unet_no_preprocessing.load_state_dict(torch.load('early_stopping_modelUnet_simple_11_no_preprocess.pth.pth', map_location=torch.device('cpu')))\n"
     ]
    },
    {
     "ename": "FileNotFoundError",
     "evalue": "[Errno 2] No such file or directory: 'early_stopping_modelUnet_simple_11_no_preprocess.pth.pth'",
     "output_type": "error",
     "traceback": [
      "\u001b[0;31m---------------------------------------------------------------------------\u001b[0m",
      "\u001b[0;31mFileNotFoundError\u001b[0m                         Traceback (most recent call last)",
      "Cell \u001b[0;32mIn[14], line 35\u001b[0m\n\u001b[1;32m     32\u001b[0m eleven_channel_unet\u001b[38;5;241m.\u001b[39mload_state_dict(torch\u001b[38;5;241m.\u001b[39mload(\u001b[38;5;124m'\u001b[39m\u001b[38;5;124mearly_stopping_modelablation_channel_base_unet_11.pth\u001b[39m\u001b[38;5;124m'\u001b[39m, map_location\u001b[38;5;241m=\u001b[39mtorch\u001b[38;5;241m.\u001b[39mdevice(\u001b[38;5;124m'\u001b[39m\u001b[38;5;124mcpu\u001b[39m\u001b[38;5;124m'\u001b[39m)))\n\u001b[1;32m     34\u001b[0m base_unet_no_preprocessing \u001b[38;5;241m=\u001b[39m BaseUnet()\n\u001b[0;32m---> 35\u001b[0m base_unet_no_preprocessing\u001b[38;5;241m.\u001b[39mload_state_dict(torch\u001b[38;5;241m.\u001b[39mload(\u001b[38;5;124m'\u001b[39m\u001b[38;5;124mearly_stopping_modelUnet_simple_11_no_preprocess.pth.pth\u001b[39m\u001b[38;5;124m'\u001b[39m, map_location\u001b[38;5;241m=\u001b[39mtorch\u001b[38;5;241m.\u001b[39mdevice(\u001b[38;5;124m'\u001b[39m\u001b[38;5;124mcpu\u001b[39m\u001b[38;5;124m'\u001b[39m)))\n\u001b[1;32m     37\u001b[0m base_unet_no_preprocessing_3d \u001b[38;5;241m=\u001b[39m BaseUnet3D()\n\u001b[1;32m     38\u001b[0m base_unet_no_preprocessing_3d\u001b[38;5;241m.\u001b[39mload_state_dict(torch\u001b[38;5;241m.\u001b[39mload(\u001b[38;5;124m'\u001b[39m\u001b[38;5;124mearly_stopping_modelUnet3D_simple_11_no_preprocess.pth\u001b[39m\u001b[38;5;124m'\u001b[39m, map_location\u001b[38;5;241m=\u001b[39mtorch\u001b[38;5;241m.\u001b[39mdevice(\u001b[38;5;124m'\u001b[39m\u001b[38;5;124mcpu\u001b[39m\u001b[38;5;124m'\u001b[39m)))\n",
      "File \u001b[0;32m~/anaconda3/lib/python3.11/site-packages/torch/serialization.py:1327\u001b[0m, in \u001b[0;36mload\u001b[0;34m(f, map_location, pickle_module, weights_only, mmap, **pickle_load_args)\u001b[0m\n\u001b[1;32m   1324\u001b[0m \u001b[38;5;28;01mif\u001b[39;00m \u001b[38;5;124m\"\u001b[39m\u001b[38;5;124mencoding\u001b[39m\u001b[38;5;124m\"\u001b[39m \u001b[38;5;129;01mnot\u001b[39;00m \u001b[38;5;129;01min\u001b[39;00m pickle_load_args\u001b[38;5;241m.\u001b[39mkeys():\n\u001b[1;32m   1325\u001b[0m     pickle_load_args[\u001b[38;5;124m\"\u001b[39m\u001b[38;5;124mencoding\u001b[39m\u001b[38;5;124m\"\u001b[39m] \u001b[38;5;241m=\u001b[39m \u001b[38;5;124m\"\u001b[39m\u001b[38;5;124mutf-8\u001b[39m\u001b[38;5;124m\"\u001b[39m\n\u001b[0;32m-> 1327\u001b[0m \u001b[38;5;28;01mwith\u001b[39;00m _open_file_like(f, \u001b[38;5;124m\"\u001b[39m\u001b[38;5;124mrb\u001b[39m\u001b[38;5;124m\"\u001b[39m) \u001b[38;5;28;01mas\u001b[39;00m opened_file:\n\u001b[1;32m   1328\u001b[0m     \u001b[38;5;28;01mif\u001b[39;00m _is_zipfile(opened_file):\n\u001b[1;32m   1329\u001b[0m         \u001b[38;5;66;03m# The zipfile reader is going to advance the current file position.\u001b[39;00m\n\u001b[1;32m   1330\u001b[0m         \u001b[38;5;66;03m# If we want to actually tail call to torch.jit.load, we need to\u001b[39;00m\n\u001b[1;32m   1331\u001b[0m         \u001b[38;5;66;03m# reset back to the original position.\u001b[39;00m\n\u001b[1;32m   1332\u001b[0m         orig_position \u001b[38;5;241m=\u001b[39m opened_file\u001b[38;5;241m.\u001b[39mtell()\n",
      "File \u001b[0;32m~/anaconda3/lib/python3.11/site-packages/torch/serialization.py:659\u001b[0m, in \u001b[0;36m_open_file_like\u001b[0;34m(name_or_buffer, mode)\u001b[0m\n\u001b[1;32m    657\u001b[0m \u001b[38;5;28;01mdef\u001b[39;00m \u001b[38;5;21m_open_file_like\u001b[39m(name_or_buffer, mode):\n\u001b[1;32m    658\u001b[0m     \u001b[38;5;28;01mif\u001b[39;00m _is_path(name_or_buffer):\n\u001b[0;32m--> 659\u001b[0m         \u001b[38;5;28;01mreturn\u001b[39;00m _open_file(name_or_buffer, mode)\n\u001b[1;32m    660\u001b[0m     \u001b[38;5;28;01melse\u001b[39;00m:\n\u001b[1;32m    661\u001b[0m         \u001b[38;5;28;01mif\u001b[39;00m \u001b[38;5;124m\"\u001b[39m\u001b[38;5;124mw\u001b[39m\u001b[38;5;124m\"\u001b[39m \u001b[38;5;129;01min\u001b[39;00m mode:\n",
      "File \u001b[0;32m~/anaconda3/lib/python3.11/site-packages/torch/serialization.py:640\u001b[0m, in \u001b[0;36m_open_file.__init__\u001b[0;34m(self, name, mode)\u001b[0m\n\u001b[1;32m    639\u001b[0m \u001b[38;5;28;01mdef\u001b[39;00m \u001b[38;5;21m__init__\u001b[39m(\u001b[38;5;28mself\u001b[39m, name, mode):\n\u001b[0;32m--> 640\u001b[0m     \u001b[38;5;28msuper\u001b[39m()\u001b[38;5;241m.\u001b[39m\u001b[38;5;21m__init__\u001b[39m(\u001b[38;5;28mopen\u001b[39m(name, mode))\n",
      "\u001b[0;31mFileNotFoundError\u001b[0m: [Errno 2] No such file or directory: 'early_stopping_modelUnet_simple_11_no_preprocess.pth.pth'"
     ]
    }
   ],
   "source": [
    "one_channel_unet = BaseUnet(num_inputs=1)\n",
    "one_channel_unet.load_state_dict(torch.load('early_stopping_modelablation_channel_base_unet_1.pth', map_location=torch.device('cpu')))\n",
    "\n",
    "two_channel_unet = BaseUnet(num_inputs=2)\n",
    "two_channel_unet.load_state_dict(torch.load('early_stopping_modelablation_channel_base_unet_2.pth', map_location=torch.device('cpu')))\n",
    "\n",
    "three_channel_unet = BaseUnet(num_inputs=3)\n",
    "three_channel_unet.load_state_dict(torch.load('early_stopping_modelablation_channel_base_unet_3.pth', map_location=torch.device('cpu')))\n",
    "\n",
    "four_channel_unet = BaseUnet(num_inputs=4)\n",
    "four_channel_unet.load_state_dict(torch.load('early_stopping_modelablation_channel_base_unet_4.pth', map_location=torch.device('cpu')))\n",
    "\n",
    "five_channel_unet = BaseUnet(num_inputs=5)\n",
    "five_channel_unet.load_state_dict(torch.load('early_stopping_modelablation_channel_base_unet_5.pth', map_location=torch.device('cpu')))\n",
    "\n",
    "six_channel_unet = BaseUnet(num_inputs=6)\n",
    "six_channel_unet.load_state_dict(torch.load('early_stopping_modelablation_channel_base_unet_6.pth', map_location=torch.device('cpu')))\n",
    "\n",
    "seven_channel_unet = BaseUnet(num_inputs=7)\n",
    "seven_channel_unet.load_state_dict(torch.load('early_stopping_modelablation_channel_base_unet_7.pth', map_location=torch.device('cpu')))\n",
    "\n",
    "eight_channel_unet = BaseUnet(num_inputs=8)\n",
    "eight_channel_unet.load_state_dict(torch.load('early_stopping_modelablation_channel_base_unet_8.pth', map_location=torch.device('cpu')))\n",
    "\n",
    "nine_channel_unet = BaseUnet(num_inputs=9)\n",
    "nine_channel_unet.load_state_dict(torch.load('early_stopping_modelablation_channel_base_unet_9.pth', map_location=torch.device('cpu')))\n",
    "\n",
    "ten_channel_unet = BaseUnet(num_inputs=10)\n",
    "ten_channel_unet.load_state_dict(torch.load('early_stopping_modelablation_channel_base_unet_10.pth', map_location=torch.device('cpu')))\n",
    "\n",
    "eleven_channel_unet = BaseUnet(num_inputs=11)\n",
    "eleven_channel_unet.load_state_dict(torch.load('early_stopping_modelablation_channel_base_unet_11.pth', map_location=torch.device('cpu')))\n",
    "\n",
    "base_unet_no_preprocessing = BaseUnet()\n",
    "base_unet_no_preprocessing.load_state_dict(torch.load('early_stopping_modelUnet_simple_11_no_preprocess.pth', map_location=torch.device('cpu')))\n",
    "\n",
    "base_unet_no_preprocessing_3d = BaseUnet3D()\n",
    "base_unet_no_preprocessing_3d.load_state_dict(torch.load('early_stopping_modelUnet3D_simple_11_no_preprocess.pth', map_location=torch.device('cpu')))\n",
    "\n",
    "base_unet_preprocessing = BaseUnet()\n",
    "base_unet_preprocessing.load_state_dict(torch.load('early_stopping_modelUnet_simple_11_preprocess.pth', map_location=torch.device('cpu')))\n",
    "\n",
    "base_unet_preprocessing_3d = BaseUnet3D()\n",
    "base_unet_preprocessing_3d.load_state_dict(torch.load('early_stopping_modelUnet3D_simple_11_preprocess.pth', map_location=torch.device('cpu')))\n",
    "\n",
    "# one_channel_unet.eval()\n",
    "# two_channel_unet.eval()\n",
    "# three_channel_unet.eval()\n",
    "# four_channel_unet.eval()\n",
    "# five_channel_unet.eval()\n",
    "# six_channel_unet.eval()\n",
    "# seven_channel_unet.eval()\n",
    "# eight_channel_unet.eval()\n",
    "# nine_channel_unet.eval()\n",
    "# ten_channel_unet.eval()\n",
    "# eleven_channel_unet.eval()\n",
    "base_unet_no_preprocessing.eval()\n",
    "base_unet_no_preprocessing_3d.eval()\n",
    "base_unet_preprocessing.eval()\n",
    "base_unet_preprocessing_3d.eval()"
   ]
  },
  {
   "cell_type": "markdown",
   "metadata": {},
   "source": [
    "## Dataloader and Testing function"
   ]
  },
  {
   "cell_type": "code",
   "execution_count": 3,
   "metadata": {},
   "outputs": [],
   "source": [
    "def get_dataloader_test(sample_size=512, batch_size=1, channels=[0, 1, 2, 3, 4, 5, 6, 7, 8, 9, 10]):\n",
    "\n",
    "    # image_root = '/zhome/70/5/14854/nobackup/deeplearningf24/forcebiology/data/brightfield'\n",
    "    # mask_root = '/zhome/70/5/14854/nobackup/deeplearningf24/forcebiology/data/masks'\n",
    "    image_root = 'data/brightfield'\n",
    "    mask_root = 'data/masks'\n",
    "\n",
    "    transform_test = v2.Compose([\n",
    "        v2.Resize((sample_size, sample_size)),\n",
    "        v2.ToDtype(torch.float32, scale=True),\n",
    "        v2.ToTensor(),\n",
    "    ])\n",
    "\n",
    "    brightfield_test_datatset = BrightfieldMicroscopyDataset(root_dir_images=image_root, root_dir_labels=mask_root, train=False, validation=False, transform=transform_test, channels_to_use=channels)\n",
    "\n",
    "    brightfield_loader_test = DataLoader(brightfield_test_datatset,  batch_size=batch_size, shuffle=False)\n",
    "\n",
    "    return brightfield_loader_test"
   ]
  },
  {
   "cell_type": "code",
   "execution_count": 4,
   "metadata": {},
   "outputs": [],
   "source": [
    "def test_model(model, test_loader, criterion, device, preprocessing=False, test_3d=False):\n",
    "    test_loss = []\n",
    "    dice = []\n",
    "    iou = []\n",
    "    acc = []\n",
    "    sens = []\n",
    "    spec = []\n",
    "\n",
    "    with torch.no_grad():\n",
    "        for data in test_loader:\n",
    "            images, labels = data\n",
    "            # remove repeating pattern\n",
    "            if preprocessing:\n",
    "                for i in range(images.shape[0]):\n",
    "                    images[i] = torch.tensor(remove_repeating_pattern(images[i].numpy()))\n",
    "\n",
    "            images, labels = images.to(device), labels.to(device)\n",
    "\n",
    "            if test_3d:\n",
    "                images = images.unsqueeze(2)\n",
    "                labels = labels.unsqueeze(1)\n",
    "\n",
    "            outputs = model(images)\n",
    "            loss = criterion(outputs, labels.float())\n",
    "            test_loss.append(loss.item())\n",
    "\n",
    "            Y_pred = (outputs > 0.45).float()\n",
    "            \n",
    "            dice.append(dice_overlap(Y_pred, labels))\n",
    "            iou.append(intersection_over_union(Y_pred, labels))\n",
    "            acc.append(accuracy(Y_pred, labels))\n",
    "            sens.append(sensitivity(Y_pred, labels))\n",
    "            spec.append(specificity(Y_pred, labels))\n",
    "\n",
    "    return test_loss, dice, iou, acc, sens, spec\n",
    "        "
   ]
  },
  {
   "cell_type": "markdown",
   "metadata": {},
   "source": [
    "## Testing the 2D and 3D Unets with and without preprocessing"
   ]
  },
  {
   "cell_type": "code",
   "execution_count": 13,
   "metadata": {},
   "outputs": [
    {
     "name": "stdout",
     "output_type": "stream",
     "text": [
      "3D no preprocess\n",
      "Test loss:  0.32766258848064084\n",
      "Dice:  0.66471165\n",
      "IoU:  0.5213731\n",
      "Accuracy:  0.9010626\n",
      "Sensitivity:  0.5811094\n",
      "Specificity:  0.9794943\n",
      "3D preprocess\n",
      "Test loss:  0.303239405885631\n",
      "Dice:  0.7123706\n",
      "IoU:  0.5669817\n",
      "Accuracy:  0.9005842\n",
      "Sensitivity:  0.68898076\n",
      "Specificity:  0.9514856\n",
      "2D no preprocess\n",
      "Test loss:  0.2897508324069135\n",
      "Dice:  0.6941363\n",
      "IoU:  0.56036824\n",
      "Accuracy:  0.9063084\n",
      "Sensitivity:  0.64471835\n",
      "Specificity:  0.9740524\n",
      "2D preprocess\n",
      "Test loss:  0.4385944359442767\n",
      "Dice:  0.6811621\n",
      "IoU:  0.52402085\n",
      "Accuracy:  0.8851104\n",
      "Sensitivity:  0.6950393\n",
      "Specificity:  0.93237823\n"
     ]
    }
   ],
   "source": [
    "test_loss_3d_no_preprocess, dice_3d_no_preprocess, iou_3d_no_preprocess, acc_3d_no_preprocess, sens_3d_no_preprocess, spec_3d_no_preprocess = test_model(base_unet_no_preprocessing_3d, get_dataloader_test(channels=[0, 1, 2, 3, 4, 5, 6, 7, 8, 9, 10]), nn.BCEWithLogitsLoss(), torch.device('cpu'), preprocessing=False, test_3d=True)\n",
    "\n",
    "test_loss_3d_preprocess, dice_3d_preprocess, iou_3d_preprocess, acc_3d_preprocess, sens_3d_preprocess, spec_3d_preprocess = test_model(base_unet_preprocessing_3d, get_dataloader_test(channels=[0, 1, 2, 3, 4, 5, 6, 7, 8, 9, 10]), nn.BCEWithLogitsLoss(), torch.device('cpu'), preprocessing=True, test_3d=True)\n",
    "\n",
    "tess_loss_2d_no_preprocess, dice_2d_no_preprocess, iou_2d_no_preprocess, acc_2d_no_preprocess, sens_2d_no_preprocess, spec_2d_no_preprocess = test_model(base_unet_no_preprocessing, get_dataloader_test(channels=[0, 1, 2, 3, 4, 5, 6, 7, 8, 9, 10]), nn.BCEWithLogitsLoss(), torch.device('cpu'), preprocessing=False, test_3d=False)\n",
    "\n",
    "test_loss_2d_preprocess, dice_2d_preprocess, iou_2d_preprocess, acc_2d_preprocess, sens_2d_preprocess, spec_2d_preprocess = test_model(base_unet_preprocessing, get_dataloader_test(channels=[0, 1, 2, 3, 4, 5, 6, 7, 8, 9, 10]), nn.BCEWithLogitsLoss(), torch.device('cpu'), preprocessing=True, test_3d=False)\n",
    "\n",
    "print('3D no preprocess')\n",
    "print('Test loss: ', np.mean(test_loss_3d_no_preprocess))\n",
    "print('Dice: ', np.mean(dice_3d_no_preprocess))\n",
    "print('IoU: ', np.mean(iou_3d_no_preprocess))\n",
    "print('Accuracy: ', np.mean(acc_3d_no_preprocess))\n",
    "print('Sensitivity: ', np.mean(sens_3d_no_preprocess))\n",
    "print('Specificity: ', np.mean(spec_3d_no_preprocess))\n",
    "\n",
    "print('3D preprocess')\n",
    "print('Test loss: ', np.mean(test_loss_3d_preprocess))\n",
    "print('Dice: ', np.mean(dice_3d_preprocess))\n",
    "print('IoU: ', np.mean(iou_3d_preprocess))\n",
    "print('Accuracy: ', np.mean(acc_3d_preprocess))\n",
    "print('Sensitivity: ', np.mean(sens_3d_preprocess))\n",
    "print('Specificity: ', np.mean(spec_3d_preprocess))\n",
    "\n",
    "print('2D no preprocess')\n",
    "print('Test loss: ', np.mean(tess_loss_2d_no_preprocess))\n",
    "print('Dice: ', np.mean(dice_2d_no_preprocess))\n",
    "print('IoU: ', np.mean(iou_2d_no_preprocess))\n",
    "print('Accuracy: ', np.mean(acc_2d_no_preprocess))\n",
    "print('Sensitivity: ', np.mean(sens_2d_no_preprocess))\n",
    "print('Specificity: ', np.mean(spec_2d_no_preprocess))\n",
    "\n",
    "print('2D preprocess')\n",
    "print('Test loss: ', np.mean(test_loss_2d_preprocess))\n",
    "print('Dice: ', np.mean(dice_2d_preprocess))\n",
    "print('IoU: ', np.mean(iou_2d_preprocess))\n",
    "print('Accuracy: ', np.mean(acc_2d_preprocess))\n",
    "print('Sensitivity: ', np.mean(sens_2d_preprocess))\n",
    "print('Specificity: ', np.mean(spec_2d_preprocess))"
   ]
  },
  {
   "cell_type": "markdown",
   "metadata": {},
   "source": [
    "## Testing whether results are statisitcally significant"
   ]
  },
  {
   "cell_type": "markdown",
   "metadata": {},
   "source": [
    "### 2D Unet vs 3D Unet"
   ]
  },
  {
   "cell_type": "code",
   "execution_count": 11,
   "metadata": {},
   "outputs": [
    {
     "name": "stdout",
     "output_type": "stream",
     "text": [
      "Wilcoxon signed-rank test results for dice:\n",
      "Statistic: 290.0000, p-value: 0.0005\n",
      "Wilcoxon signed-rank test results for iou:\n",
      "Statistic: 268.0000, p-value: 0.0002\n"
     ]
    }
   ],
   "source": [
    "import numpy as np\n",
    "from scipy.stats import wilcoxon\n",
    "from scipy.stats import ttest_rel\n",
    "\n",
    "\n",
    "modelA_scores_dice = np.array(dice_3d_no_preprocess)\n",
    "modelB_scores_dice = np.array(dice_2d_no_preprocess)\n",
    "\n",
    "modelA_scores_iou = np.array(iou_3d_no_preprocess)\n",
    "modelB_scores_iou = np.array(iou_2d_no_preprocess)\n",
    "\n",
    "\n",
    "# Perform a Wilcoxon signed-rank test (non-parametric)\n",
    "stat_dice, p_value_dice = wilcoxon(modelA_scores_dice, modelB_scores_dice)\n",
    "stat_iou, p_value_iou = wilcoxon(modelA_scores_iou, modelB_scores_iou)\n",
    "\n",
    "print(\"Wilcoxon signed-rank test results for dice:\")\n",
    "print(f\"Statistic: {stat_dice:.4f}, p-value: {p_value_dice:.4f}\")\n",
    "\n",
    "print(\"Wilcoxon signed-rank test results for iou:\")\n",
    "print(f\"Statistic: {stat_iou:.4f}, p-value: {p_value_iou:.4f}\")\n"
   ]
  },
  {
   "cell_type": "markdown",
   "metadata": {},
   "source": [
    "### 3D Unet perprocessing vs preprocessing"
   ]
  },
  {
   "cell_type": "code",
   "execution_count": 12,
   "metadata": {},
   "outputs": [
    {
     "name": "stdout",
     "output_type": "stream",
     "text": [
      "Wilcoxon signed-rank test results for dice:\n",
      "Statistic: 270.0000, p-value: 0.0002\n",
      "Wilcoxon signed-rank test results for iou:\n",
      "Statistic: 276.0000, p-value: 0.0003\n"
     ]
    }
   ],
   "source": [
    "modelA_scores_dice = np.array(dice_3d_no_preprocess)\n",
    "modelB_scores_dice = np.array(dice_3d_preprocess)\n",
    "\n",
    "modelA_scores_iou = np.array(iou_3d_no_preprocess)\n",
    "modelB_scores_iou = np.array(iou_3d_preprocess)\n",
    "\n",
    "\n",
    "# Perform a Wilcoxon signed-rank test (non-parametric)\n",
    "stat_dice, p_value_dice = wilcoxon(modelA_scores_dice, modelB_scores_dice)\n",
    "stat_iou, p_value_iou = wilcoxon(modelA_scores_iou, modelB_scores_iou)\n",
    "\n",
    "print(\"Wilcoxon signed-rank test results for dice:\")\n",
    "print(f\"Statistic: {stat_dice:.4f}, p-value: {p_value_dice:.4f}\")\n",
    "\n",
    "print(\"Wilcoxon signed-rank test results for iou:\")\n",
    "print(f\"Statistic: {stat_iou:.4f}, p-value: {p_value_iou:.4f}\")"
   ]
  },
  {
   "cell_type": "markdown",
   "metadata": {},
   "source": [
    "### 2D Unet preprocessing vs no preprocessing"
   ]
  },
  {
   "cell_type": "code",
   "execution_count": 13,
   "metadata": {},
   "outputs": [
    {
     "name": "stdout",
     "output_type": "stream",
     "text": [
      "Wilcoxon signed-rank test results for dice:\n",
      "Statistic: 422.0000, p-value: 0.0239\n",
      "Wilcoxon signed-rank test results for iou:\n",
      "Statistic: 362.0000, p-value: 0.0048\n"
     ]
    }
   ],
   "source": [
    "modelA_scores_dice = np.array(dice_2d_no_preprocess)\n",
    "modelB_scores_dice = np.array(dice_2d_preprocess)\n",
    "\n",
    "modelA_scores_iou = np.array(iou_2d_no_preprocess)\n",
    "modelB_scores_iou = np.array(iou_2d_preprocess)\n",
    "\n",
    "\n",
    "# Perform a Wilcoxon signed-rank test (non-parametric)\n",
    "stat_dice, p_value_dice = wilcoxon(modelA_scores_dice, modelB_scores_dice)\n",
    "stat_iou, p_value_iou = wilcoxon(modelA_scores_iou, modelB_scores_iou)\n",
    "\n",
    "print(\"Wilcoxon signed-rank test results for dice:\")\n",
    "print(f\"Statistic: {stat_dice:.4f}, p-value: {p_value_dice:.4f}\")\n",
    "\n",
    "print(\"Wilcoxon signed-rank test results for iou:\")\n",
    "print(f\"Statistic: {stat_iou:.4f}, p-value: {p_value_iou:.4f}\")"
   ]
  },
  {
   "cell_type": "markdown",
   "metadata": {},
   "source": [
    "### 2D vs 3D preprocess"
   ]
  },
  {
   "cell_type": "code",
   "execution_count": 16,
   "metadata": {},
   "outputs": [
    {
     "name": "stdout",
     "output_type": "stream",
     "text": [
      "Wilcoxon signed-rank test results for dice:\n",
      "Statistic: 83.0000, p-value: 0.0000000543\n",
      "Wilcoxon signed-rank test results for iou:\n",
      "Statistic: 75.0000, p-value: 0.0000000356\n"
     ]
    }
   ],
   "source": [
    "modelA_scores_dice = np.array(dice_3d_preprocess)\n",
    "modelB_scores_dice = np.array(dice_2d_preprocess)\n",
    "\n",
    "modelA_scores_iou = np.array(iou_3d_preprocess)\n",
    "modelB_scores_iou = np.array(iou_2d_preprocess)\n",
    "\n",
    "\n",
    "# Perform a Wilcoxon signed-rank test (non-parametric)\n",
    "stat_dice, p_value_dice = wilcoxon(modelA_scores_dice, modelB_scores_dice)\n",
    "stat_iou, p_value_iou = wilcoxon(modelA_scores_iou, modelB_scores_iou)\n",
    "\n",
    "print(\"Wilcoxon signed-rank test results for dice:\")\n",
    "print(f\"Statistic: {stat_dice:.4f}, p-value: {p_value_dice:.10f}\")\n",
    "\n",
    "print(\"Wilcoxon signed-rank test results for iou:\")\n",
    "print(f\"Statistic: {stat_iou:.4f}, p-value: {p_value_iou:.10f}\")"
   ]
  },
  {
   "cell_type": "markdown",
   "metadata": {},
   "source": [
    "## Evaluate different channels"
   ]
  },
  {
   "cell_type": "code",
   "execution_count": 9,
   "metadata": {},
   "outputs": [
    {
     "name": "stderr",
     "output_type": "stream",
     "text": [
      "/Users/hendrikschmidt/anaconda3/lib/python3.11/site-packages/torchvision/transforms/v2/_deprecated.py:42: UserWarning: The transform `ToTensor()` is deprecated and will be removed in a future release. Instead, please use `v2.Compose([v2.ToImage(), v2.ToDtype(torch.float32, scale=True)])`.Output is equivalent up to float precision.\n",
      "  warnings.warn(\n"
     ]
    },
    {
     "name": "stdout",
     "output_type": "stream",
     "text": [
      "1 channel\n",
      "Dice overlap:  0.61972314\n",
      "IoU:  0.45893863\n",
      "2 channel\n",
      "Dice overlap:  0.49061936\n",
      "IoU:  0.3397203\n",
      "3 channel\n",
      "Dice overlap:  0.5790177\n",
      "IoU:  0.4189411\n",
      "4 channel\n",
      "Dice overlap:  0.54791534\n",
      "IoU:  0.38958633\n",
      "5 channel\n",
      "Dice overlap:  0.5881931\n",
      "IoU:  0.42858973\n",
      "6 channel\n",
      "Dice overlap:  0.4247808\n",
      "IoU:  0.27752945\n",
      "7 channel\n",
      "Dice overlap:  0.5807479\n",
      "IoU:  0.42537078\n",
      "8 channel\n",
      "Dice overlap:  0.7251035\n",
      "IoU:  0.5784673\n",
      "9 channel\n",
      "Dice overlap:  0.61174107\n",
      "IoU:  0.44883892\n",
      "10 channel\n",
      "Dice overlap:  0.5632103\n",
      "IoU:  0.40399128\n",
      "11 channel\n",
      "Dice overlap:  0.6468386\n",
      "IoU:  0.49341366\n"
     ]
    }
   ],
   "source": [
    "test_loss_1_channel, dice_1_channel, iou_1_channel, acc_1_channel, sens_1_channel, spec_1_channel = test_model(one_channel_unet, get_dataloader_test(channels=[0]), nn.BCEWithLogitsLoss(), torch.device('cpu'), preprocessing=False, test_3d=False)\n",
    "\n",
    "test_loss_2_channel, dice_2_channel, iou_2_channel, acc_2_channel, sens_2_channel, spec_2_channel = test_model(two_channel_unet, get_dataloader_test(channels=[0, 1]), nn.BCEWithLogitsLoss(), torch.device('cpu'), preprocessing=False, test_3d=False)\n",
    "\n",
    "test_loss_3_channel, dice_3_channel, iou_3_channel, acc_3_channel, sens_3_channel, spec_3_channel = test_model(three_channel_unet, get_dataloader_test(channels=[0, 1, 2]), nn.BCEWithLogitsLoss(), torch.device('cpu'), preprocessing=False, test_3d=False)\n",
    "\n",
    "test_loss_4_channel, dice_4_channel, iou_4_channel, acc_4_channel, sens_4_channel, spec_4_channel = test_model(four_channel_unet, get_dataloader_test(channels=[0, 1, 2, 3]), nn.BCEWithLogitsLoss(), torch.device('cpu'), preprocessing=False, test_3d=False)\n",
    "\n",
    "test_loss_5_channel, dice_5_channel, iou_5_channel, acc_5_channel, sens_5_channel, spec_5_channel = test_model(five_channel_unet, get_dataloader_test(channels=[0, 1, 2, 3, 4]), nn.BCEWithLogitsLoss(), torch.device('cpu'), preprocessing=False, test_3d=False)\n",
    "\n",
    "test_loss_6_channel, dice_6_channel, iou_6_channel, acc_6_channel, sens_6_channel, spec_6_channel = test_model(six_channel_unet, get_dataloader_test(channels=[0, 1, 2, 3, 4, 5]), nn.BCEWithLogitsLoss(), torch.device('cpu'), preprocessing=False, test_3d=False)\n",
    "\n",
    "test_loss_7_channel, dice_7_channel, iou_7_channel, acc_7_channel, sens_7_channel, spec_7_channel = test_model(seven_channel_unet, get_dataloader_test(channels=[0, 1, 2, 3, 4, 5, 6]), nn.BCEWithLogitsLoss(), torch.device('cpu'), preprocessing=False, test_3d=False)\n",
    "\n",
    "test_loss_8_channel, dice_8_channel, iou_8_channel, acc_8_channel, sens_8_channel, spec_8_channel = test_model(eight_channel_unet, get_dataloader_test(channels=[0, 1, 2, 3, 4, 5, 6, 7]), nn.BCEWithLogitsLoss(), torch.device('cpu'), preprocessing=False, test_3d=False)\n",
    "\n",
    "test_loss_9_channel, dice_9_channel, iou_9_channel, acc_9_channel, sens_9_channel, spec_9_channel = test_model(nine_channel_unet, get_dataloader_test(channels=[0, 1, 2, 3, 4, 5, 6, 7, 8]), nn.BCEWithLogitsLoss(), torch.device('cpu'), preprocessing=False, test_3d=False)\n",
    "\n",
    "test_loss_10_channel, dice_10_channel, iou_10_channel, acc_10_channel, sens_10_channel, spec_10_channel = test_model(ten_channel_unet, get_dataloader_test(channels=[0, 1, 2, 3, 4, 5, 6, 7, 8, 9]), nn.BCEWithLogitsLoss(), torch.device('cpu'), preprocessing=False, test_3d=False)\n",
    "\n",
    "test_loss_11_channel, dice_11_channel, iou_11_channel, acc_11_channel, sens_11_channel, spec_11_channel = test_model(eleven_channel_unet, get_dataloader_test(channels=[0, 1, 2, 3, 4, 5, 6, 7, 8, 9, 10]), nn.BCEWithLogitsLoss(), torch.device('cpu'), preprocessing=False, test_3d=False)\n",
    "\n",
    "print('1 channel')\n",
    "print('Dice overlap: ', np.mean(dice_1_channel))\n",
    "print('IoU: ', np.mean(iou_1_channel))\n",
    "\n",
    "print('2 channel')\n",
    "print('Dice overlap: ', np.mean(dice_2_channel))\n",
    "print('IoU: ', np.mean(iou_2_channel))\n",
    "\n",
    "print('3 channel')\n",
    "print('Dice overlap: ', np.mean(dice_3_channel))\n",
    "print('IoU: ', np.mean(iou_3_channel))\n",
    "\n",
    "print('4 channel')\n",
    "print('Dice overlap: ', np.mean(dice_4_channel))\n",
    "print('IoU: ', np.mean(iou_4_channel))\n",
    "\n",
    "print('5 channel')\n",
    "print('Dice overlap: ', np.mean(dice_5_channel))\n",
    "print('IoU: ', np.mean(iou_5_channel))\n",
    "\n",
    "print('6 channel')\n",
    "print('Dice overlap: ', np.mean(dice_6_channel))\n",
    "print('IoU: ', np.mean(iou_6_channel))\n",
    "\n",
    "print('7 channel')\n",
    "print('Dice overlap: ', np.mean(dice_7_channel))\n",
    "print('IoU: ', np.mean(iou_7_channel))\n",
    "\n",
    "print('8 channel')\n",
    "print('Dice overlap: ', np.mean(dice_8_channel))\n",
    "print('IoU: ', np.mean(iou_8_channel))\n",
    "\n",
    "print('9 channel')\n",
    "print('Dice overlap: ', np.mean(dice_9_channel))\n",
    "print('IoU: ', np.mean(iou_9_channel))\n",
    "\n",
    "print('10 channel')\n",
    "print('Dice overlap: ', np.mean(dice_10_channel))\n",
    "print('IoU: ', np.mean(iou_10_channel))\n",
    "\n",
    "print('11 channel')\n",
    "print('Dice overlap: ', np.mean(dice_11_channel))\n",
    "print('IoU: ', np.mean(iou_11_channel))\n"
   ]
  }
 ],
 "metadata": {
  "kernelspec": {
   "display_name": "base",
   "language": "python",
   "name": "python3"
  },
  "language_info": {
   "codemirror_mode": {
    "name": "ipython",
    "version": 3
   },
   "file_extension": ".py",
   "mimetype": "text/x-python",
   "name": "python",
   "nbconvert_exporter": "python",
   "pygments_lexer": "ipython3",
   "version": "3.11.5"
  }
 },
 "nbformat": 4,
 "nbformat_minor": 2
}
