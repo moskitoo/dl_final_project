{
 "cells": [
  {
   "cell_type": "code",
   "execution_count": 7,
   "metadata": {},
   "outputs": [],
   "source": [
    "import torch\n",
    "import torch.nn as nn\n",
    "import torch.nn.functional as F\n",
    "from PIL import Image\n",
    "import numpy as np\n",
    "import matplotlib.pyplot as plt\n",
    "from matplotlib.colors import LogNorm\n",
    "import torchvision.transforms.v2 as v2\n",
    "from torchvision.transforms import transforms\n",
    "import os \n",
    "import sys\n",
    "import glob\n",
    "from scipy import fftpack, ndimage\n",
    "import re\n",
    "from skimage.morphology import opening, disk\n",
    "from skimage import img_as_float\n",
    "from torch.utils.data import DataLoader\n",
    "from model import BaseUnet, BaseUnet3D\n",
    "from data_processing_tools import remove_repeating_pattern\n",
    "from evaluation_metrics import dice_overlap, intersection_over_union, accuracy, sensitivity, specificity\n",
    "import timeit\n",
    "from dataset import BrightfieldMicroscopyDataset"
   ]
  },
  {
   "cell_type": "markdown",
   "metadata": {},
   "source": [
    "## Loading all the models"
   ]
  },
  {
   "cell_type": "code",
   "execution_count": null,
   "metadata": {},
   "outputs": [],
   "source": [
    "# one_channel_unet = BaseUnet(num_inputs=1)\n",
    "# one_channel_unet.load_state_dict(torch.load('early_stopping_modelablation_channel_base_unet_1.pth', map_location=torch.device('cpu')))\n",
    "\n",
    "# two_channel_unet = BaseUnet(num_inputs=2)\n",
    "# two_channel_unet.load_state_dict(torch.load('early_stopping_modelablation_channel_base_unet_2.pth', map_location=torch.device('cpu')))\n",
    "\n",
    "# three_channel_unet = BaseUnet(num_inputs=3)\n",
    "# three_channel_unet.load_state_dict(torch.load('early_stopping_modelablation_channel_base_unet_3.pth', map_location=torch.device('cpu')))\n",
    "\n",
    "# four_channel_unet = BaseUnet(num_inputs=4)\n",
    "# four_channel_unet.load_state_dict(torch.load('early_stopping_modelablation_channel_base_unet_4.pth', map_location=torch.device('cpu')))\n",
    "\n",
    "# five_channel_unet = BaseUnet(num_inputs=5)\n",
    "# five_channel_unet.load_state_dict(torch.load('early_stopping_modelablation_channel_base_unet_5.pth', map_location=torch.device('cpu')))\n",
    "\n",
    "# six_channel_unet = BaseUnet(num_inputs=6)\n",
    "# six_channel_unet.load_state_dict(torch.load('early_stopping_modelablation_channel_base_unet_6.pth', map_location=torch.device('cpu')))\n",
    "\n",
    "# seven_channel_unet = BaseUnet(num_inputs=7)\n",
    "# seven_channel_unet.load_state_dict(torch.load('early_stopping_modelablation_channel_base_unet_7.pth', map_location=torch.device('cpu')))\n",
    "\n",
    "# eight_channel_unet = BaseUnet(num_inputs=8)\n",
    "# eight_channel_unet.load_state_dict(torch.load('early_stopping_modelablation_channel_base_unet_8.pth', map_location=torch.device('cpu')))\n",
    "\n",
    "# nine_channel_unet = BaseUnet(num_inputs=9)\n",
    "# nine_channel_unet.load_state_dict(torch.load('early_stopping_modelablation_channel_base_unet_9.pth', map_location=torch.device('cpu')))\n",
    "\n",
    "# ten_channel_unet = BaseUnet(num_inputs=10)\n",
    "# ten_channel_unet.load_state_dict(torch.load('early_stopping_modelablation_channel_base_unet_10.pth', map_location=torch.device('cpu')))\n",
    "\n",
    "# eleven_channel_unet = BaseUnet(num_inputs=11)\n",
    "# eleven_channel_unet.load_state_dict(torch.load('early_stopping_modelablation_channel_base_unet_11.pth', map_location=torch.device('cpu')))\n",
    "\n",
    "base_unet_no_preprocessing = BaseUnet()\n",
    "base_unet_no_preprocessing.load_state_dict(torch.load('early_stopping_modelUnet_simple_11_nopreprocess.pth', map_location=torch.device('cpu')))\n",
    "\n",
    "base_unet_no_preprocessing_3d = BaseUnet3D()\n",
    "base_unet_no_preprocessing_3d.load_state_dict(torch.load('early_stopping_modelUnet3D_simple_11_no_preprocess.pth', map_location=torch.device('cpu')))\n",
    "\n",
    "base_unet_preprocessing = BaseUnet()\n",
    "base_unet_preprocessing.load_state_dict(torch.load('early_stopping_modelUnet_simple_11_preprocess.pth', map_location=torch.device('cpu')))\n",
    "\n",
    "base_unet_preprocessing_3d = BaseUnet3D()\n",
    "base_unet_preprocessing_3d.load_state_dict(torch.load('early_stopping_modelUnet3D_simple_11_preprocess.pth', map_location=torch.device('cpu')))\n",
    "\n",
    "# one_channel_unet.eval()\n",
    "# two_channel_unet.eval()\n",
    "# three_channel_unet.eval()\n",
    "# four_channel_unet.eval()\n",
    "# five_channel_unet.eval()\n",
    "# six_channel_unet.eval()\n",
    "# seven_channel_unet.eval()\n",
    "# eight_channel_unet.eval()\n",
    "# nine_channel_unet.eval()\n",
    "# ten_channel_unet.eval()\n",
    "# eleven_channel_unet.eval()\n",
    "base_unet_no_preprocessing.eval()\n",
    "base_unet_no_preprocessing_3d.eval()\n",
    "base_unet_preprocessing.eval()\n",
    "base_unet_preprocessing_3d.eval()"
   ]
  },
  {
   "cell_type": "markdown",
   "metadata": {},
   "source": [
    "## Dataloader and Testing function"
   ]
  },
  {
   "cell_type": "code",
   "execution_count": 6,
   "metadata": {},
   "outputs": [],
   "source": [
    "def get_dataloader_test(sample_size=512, batch_size=1, channels=[0, 1, 2, 3, 4, 5, 6, 7, 8, 9, 10]):\n",
    "\n",
    "    # image_root = '/zhome/70/5/14854/nobackup/deeplearningf24/forcebiology/data/brightfield'\n",
    "    # mask_root = '/zhome/70/5/14854/nobackup/deeplearningf24/forcebiology/data/masks'\n",
    "    image_root = 'data/brightfield'\n",
    "    mask_root = 'data/masks'\n",
    "\n",
    "    transform_test = v2.Compose([\n",
    "        v2.Resize((sample_size, sample_size)),\n",
    "        v2.ToDtype(torch.float32, scale=True),\n",
    "        v2.ToTensor(),\n",
    "    ])\n",
    "\n",
    "    brightfield_test_datatset = BrightfieldMicroscopyDataset(root_dir_images=image_root, root_dir_labels=mask_root, train=False, validation=False, transform=transform_test, channels_to_use=channels)\n",
    "\n",
    "    brightfield_loader_test = DataLoader(brightfield_test_datatset,  batch_size=batch_size, shuffle=False)\n",
    "\n",
    "    return brightfield_loader_test"
   ]
  },
  {
   "cell_type": "code",
   "execution_count": 8,
   "metadata": {},
   "outputs": [],
   "source": [
    "def test_model(model, test_loader, criterion, device, preprocessing=False, test_3d=False):\n",
    "    test_loss = []\n",
    "    dice = []\n",
    "    iou = []\n",
    "    acc = []\n",
    "    sens = []\n",
    "    spec = []\n",
    "\n",
    "    with torch.no_grad():\n",
    "        for data in test_loader:\n",
    "            images, labels = data\n",
    "            # remove repeating pattern\n",
    "            if preprocessing:\n",
    "                for i in range(images.shape[0]):\n",
    "                    images[i] = torch.tensor(remove_repeating_pattern(images[i].numpy()))\n",
    "\n",
    "            images, labels = images.to(device), labels.to(device)\n",
    "\n",
    "            if test_3d:\n",
    "                images = images.unsqueeze(2)\n",
    "                labels = labels.unsqueeze(1)\n",
    "\n",
    "            outputs = model(images)\n",
    "            loss = criterion(outputs, labels.float())\n",
    "            test_loss.append(loss.item())\n",
    "\n",
    "            Y_pred = (outputs > 0.45).float()\n",
    "            \n",
    "            dice.append(dice_overlap(Y_pred, labels))\n",
    "            iou.append(intersection_over_union(Y_pred, labels))\n",
    "            acc.append(accuracy(Y_pred, labels))\n",
    "            sens.append(sensitivity(Y_pred, labels))\n",
    "            spec.append(specificity(Y_pred, labels))\n",
    "\n",
    "    return test_loss, dice, iou, acc, sens, spec\n",
    "        "
   ]
  },
  {
   "cell_type": "markdown",
   "metadata": {},
   "source": [
    "## Testing the 2D and 3D Unets with and without preprocessing"
   ]
  },
  {
   "cell_type": "code",
   "execution_count": null,
   "metadata": {},
   "outputs": [],
   "source": [
    "test_loss_3d_no_preprocess, dice_3d_no_preprocess, iou_3d_no_preprocess, acc_3d_no_preprocess, sens_3d_no_preprocess, spec_3d_no_preprocess = test_model(base_unet_no_preprocessing_3d, get_dataloader_test(channels=[0, 1, 2, 3, 4, 5, 6, 7, 8, 9, 10]), nn.BCEWithLogitsLoss(), torch.device('cpu'), preprocessing=False, test_3d=True)"
   ]
  }
 ],
 "metadata": {
  "kernelspec": {
   "display_name": "base",
   "language": "python",
   "name": "python3"
  },
  "language_info": {
   "codemirror_mode": {
    "name": "ipython",
    "version": 3
   },
   "file_extension": ".py",
   "mimetype": "text/x-python",
   "name": "python",
   "nbconvert_exporter": "python",
   "pygments_lexer": "ipython3",
   "version": "3.11.5"
  }
 },
 "nbformat": 4,
 "nbformat_minor": 2
}
